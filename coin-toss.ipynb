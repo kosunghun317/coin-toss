{
 "cells": [
  {
   "cell_type": "code",
   "execution_count": 1,
   "metadata": {},
   "outputs": [],
   "source": [
    "import sympy as sp\n",
    "\n",
    "\n",
    "def create_markov_matrix(N):\n",
    "    # Initialize an NxN matrix with zeros\n",
    "    matrix = sp.zeros(N, N)\n",
    "\n",
    "    # Fill in the matrix according to the given conditions\n",
    "    for i in range(N):\n",
    "        for j in range(N):\n",
    "            if (i == 0 and j < N - 1) or (i - j == 1):\n",
    "                matrix[i, j] = 0.5\n",
    "            elif i == N - 1 and j == N - 1:\n",
    "                matrix[i, j] = 1\n",
    "\n",
    "    return matrix"
   ]
  },
  {
   "cell_type": "code",
   "execution_count": 2,
   "metadata": {},
   "outputs": [
    {
     "name": "stdout",
     "output_type": "stream",
     "text": [
      "⎡0.000154742213920662⎤\n",
      "⎢                    ⎥\n",
      "⎢8.41316415083107e-5 ⎥\n",
      "⎢                    ⎥\n",
      "⎢4.57414491078172e-5 ⎥\n",
      "⎢                    ⎥\n",
      "⎣ 0.999715384695463  ⎦\n"
     ]
    }
   ],
   "source": [
    "N = 4  # You can change this to any size\n",
    "matrix = create_markov_matrix(N)\n",
    "sp.pprint(matrix**99 * sp.Matrix([1, 0, 0, 0]))"
   ]
  }
 ],
 "metadata": {
  "kernelspec": {
   "display_name": ".venv",
   "language": "python",
   "name": "python3"
  },
  "language_info": {
   "codemirror_mode": {
    "name": "ipython",
    "version": 3
   },
   "file_extension": ".py",
   "mimetype": "text/x-python",
   "name": "python",
   "nbconvert_exporter": "python",
   "pygments_lexer": "ipython3",
   "version": "3.12.4"
  }
 },
 "nbformat": 4,
 "nbformat_minor": 2
}
